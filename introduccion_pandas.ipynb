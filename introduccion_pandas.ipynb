{
 "cells": [
  {
   "cell_type": "markdown",
   "metadata": {},
   "source": [
    "# Introducción a Pandas\n",
    "---\n",
    "[Pandas](https://pandas.pydata.org/) Es una librería de python para análisis de datos estructuradas en columnas y renglones, muy popular para manipulación, análisis y preprocesamiento en columnas, ideal para manipular y analizar datos de entrada. Además, _Pandas_ se integra muy bien con otras librerías de Ciencia de Datos, de manera que usualmente los algoritmos de machine learning reciben como entradas las dos principales estructuras de _Pandas_: los DataFrames y las Series\n"
   ]
  },
  {
   "cell_type": "markdown",
   "metadata": {},
   "source": []
  },
  {
   "cell_type": "markdown",
   "metadata": {},
   "source": [
    "## Objetos de _Pandas_"
   ]
  },
  {
   "cell_type": "code",
   "execution_count": 5,
   "metadata": {},
   "outputs": [],
   "source": [
    "import numpy as np\n",
    "import pandas as pd"
   ]
  },
  {
   "cell_type": "markdown",
   "metadata": {},
   "source": [
    "### Series\n",
    "\n",
    "Las series son equivalentes a los vectores de NumPy.  \n",
    "Pueden crerse a partir de listas o vectores."
   ]
  },
  {
   "cell_type": "code",
   "execution_count": 4,
   "metadata": {},
   "outputs": [
    {
     "data": {
      "text/plain": [
       "array(['rojo', 'verde', 'azul', 'amarillo'], dtype='<U8')"
      ]
     },
     "execution_count": 4,
     "metadata": {},
     "output_type": "execute_result"
    }
   ],
   "source": [
    "colores_lista = ['rojo', 'verde', 'azul', 'amarillo']\n",
    "colores_array = np.array(colores_lista)\n",
    "colores_array"
   ]
  },
  {
   "cell_type": "code",
   "execution_count": 5,
   "metadata": {},
   "outputs": [
    {
     "data": {
      "text/plain": [
       "0        rojo\n",
       "1       verde\n",
       "2        azul\n",
       "3    amarillo\n",
       "dtype: object"
      ]
     },
     "execution_count": 5,
     "metadata": {},
     "output_type": "execute_result"
    }
   ],
   "source": [
    "colores_series = pd.Series(colores_lista)\n",
    "colores_series"
   ]
  },
  {
   "cell_type": "code",
   "execution_count": 6,
   "metadata": {},
   "outputs": [
    {
     "data": {
      "text/plain": [
       "0    0.2\n",
       "1    0.4\n",
       "2    0.8\n",
       "3    1.0\n",
       "dtype: float64"
      ]
     },
     "execution_count": 6,
     "metadata": {},
     "output_type": "execute_result"
    }
   ],
   "source": [
    "porcentajes_array = np.array([0.2, 0.4, 0.8, 1])\n",
    "porcentajes_series = pd.Series(porcentajes_array)\n",
    "porcentajes_series"
   ]
  },
  {
   "cell_type": "markdown",
   "metadata": {},
   "source": [
    "Una serie consta de los valores y de los índdices y se puede acceder a ellos con los atributos _values_ e _index_.  \n",
    "Los valores son un vector de NumPy."
   ]
  },
  {
   "cell_type": "code",
   "execution_count": 7,
   "metadata": {},
   "outputs": [
    {
     "data": {
      "text/plain": [
       "array([0.2, 0.4, 0.8, 1. ])"
      ]
     },
     "execution_count": 7,
     "metadata": {},
     "output_type": "execute_result"
    }
   ],
   "source": [
    "porcentajes_series.values"
   ]
  },
  {
   "cell_type": "markdown",
   "metadata": {},
   "source": [
    "Como en un vector de NumPy, usamos los índices para obtener un subconjunto de elementos."
   ]
  },
  {
   "cell_type": "code",
   "execution_count": 8,
   "metadata": {},
   "outputs": [
    {
     "data": {
      "text/plain": [
       "np.float64(0.4)"
      ]
     },
     "execution_count": 8,
     "metadata": {},
     "output_type": "execute_result"
    }
   ],
   "source": [
    "porcentajes_series[1]"
   ]
  },
  {
   "cell_type": "code",
   "execution_count": 9,
   "metadata": {},
   "outputs": [
    {
     "data": {
      "text/plain": [
       "1    0.4\n",
       "2    0.8\n",
       "dtype: float64"
      ]
     },
     "execution_count": 9,
     "metadata": {},
     "output_type": "execute_result"
    }
   ],
   "source": [
    "porcentajes_series[1:3]"
   ]
  },
  {
   "cell_type": "markdown",
   "metadata": {},
   "source": [
    "Los objetos _Series_ tienen la  ventaja sobre los  vectores de NumPy que permite definir índices asociados a los  valores, y  \n",
    "pueden ser de cualquier tipo por ejemplo."
   ]
  },
  {
   "cell_type": "code",
   "execution_count": 12,
   "metadata": {},
   "outputs": [
    {
     "data": {
      "text/plain": [
       "rojo        0.2\n",
       "verde       0.4\n",
       "azul        0.8\n",
       "amarillo    1.0\n",
       "dtype: float64"
      ]
     },
     "execution_count": 12,
     "metadata": {},
     "output_type": "execute_result"
    }
   ],
   "source": [
    "nivel_color = pd.Series(porcentajes_array, index = colores_lista)\n",
    "nivel_color"
   ]
  },
  {
   "cell_type": "code",
   "execution_count": 13,
   "metadata": {},
   "outputs": [
    {
     "data": {
      "text/plain": [
       "array([0.2, 0.4, 0.8, 1. ])"
      ]
     },
     "execution_count": 13,
     "metadata": {},
     "output_type": "execute_result"
    }
   ],
   "source": [
    "nivel_color.values"
   ]
  },
  {
   "cell_type": "code",
   "execution_count": 14,
   "metadata": {},
   "outputs": [
    {
     "name": "stderr",
     "output_type": "stream",
     "text": [
      "C:\\Users\\aavila\\AppData\\Local\\Temp\\ipykernel_4508\\2481533905.py:1: FutureWarning: Series.__getitem__ treating keys as positions is deprecated. In a future version, integer keys will always be treated as labels (consistent with DataFrame behavior). To access a value by position, use `ser.iloc[pos]`\n",
      "  nivel_color[2]\n"
     ]
    },
    {
     "data": {
      "text/plain": [
       "np.float64(0.8)"
      ]
     },
     "execution_count": 14,
     "metadata": {},
     "output_type": "execute_result"
    }
   ],
   "source": [
    "nivel_color[2]"
   ]
  },
  {
   "cell_type": "code",
   "execution_count": 15,
   "metadata": {},
   "outputs": [
    {
     "data": {
      "text/plain": [
       "np.float64(0.8)"
      ]
     },
     "execution_count": 15,
     "metadata": {},
     "output_type": "execute_result"
    }
   ],
   "source": [
    "nivel_color[\"azul\"]"
   ]
  },
  {
   "cell_type": "code",
   "execution_count": 16,
   "metadata": {},
   "outputs": [
    {
     "data": {
      "text/plain": [
       "numpy.ndarray"
      ]
     },
     "execution_count": 16,
     "metadata": {},
     "output_type": "execute_result"
    }
   ],
   "source": [
    "type(nivel_color.values)"
   ]
  },
  {
   "cell_type": "code",
   "execution_count": 19,
   "metadata": {},
   "outputs": [
    {
     "data": {
      "text/plain": [
       "Aguascalientes    1425607\n",
       "Guanajuato        6166934\n",
       "Jalisco           8348151\n",
       "CDMX              9209944\n",
       "Querétaro         2368467\n",
       "dtype: int64"
      ]
     },
     "execution_count": 19,
     "metadata": {},
     "output_type": "execute_result"
    }
   ],
   "source": [
    "# Diccionario con la población en 2020 para estados seleccionados.\n",
    "\n",
    "poblacion_dict  = {'Aguascalientes': 1425607,\n",
    "'Guanajuato': 6166934,\n",
    "'Jalisco': 8348151,\n",
    "'CDMX': 9209944,\n",
    "'Querétaro': 2368467}\n",
    "\n",
    "pob = pd.Series(poblacion_dict)\n",
    "pob"
   ]
  },
  {
   "cell_type": "code",
   "execution_count": 20,
   "metadata": {},
   "outputs": [
    {
     "data": {
      "text/plain": [
       "np.int64(9209944)"
      ]
     },
     "execution_count": 20,
     "metadata": {},
     "output_type": "execute_result"
    }
   ],
   "source": [
    "pob['CDMX']"
   ]
  },
  {
   "cell_type": "code",
   "execution_count": 21,
   "metadata": {},
   "outputs": [
    {
     "data": {
      "text/plain": [
       "Aguascalientes    1425607\n",
       "Guanajuato        6166934\n",
       "Jalisco           8348151\n",
       "CDMX              9209944\n",
       "dtype: int64"
      ]
     },
     "execution_count": 21,
     "metadata": {},
     "output_type": "execute_result"
    }
   ],
   "source": [
    "pob['Aguascalientes':'CDMX']"
   ]
  },
  {
   "cell_type": "code",
   "execution_count": 22,
   "metadata": {},
   "outputs": [
    {
     "data": {
      "text/plain": [
       "np.int64(9209944)"
      ]
     },
     "execution_count": 22,
     "metadata": {},
     "output_type": "execute_result"
    }
   ],
   "source": [
    "pob.iloc[3]"
   ]
  },
  {
   "cell_type": "markdown",
   "metadata": {},
   "source": [
    "Lo anterior no es posible con los diccionarios:"
   ]
  },
  {
   "cell_type": "code",
   "execution_count": 23,
   "metadata": {},
   "outputs": [
    {
     "ename": "TypeError",
     "evalue": "unhashable type: 'slice'",
     "output_type": "error",
     "traceback": [
      "\u001b[1;31m---------------------------------------------------------------------------\u001b[0m",
      "\u001b[1;31mTypeError\u001b[0m                                 Traceback (most recent call last)",
      "Cell \u001b[1;32mIn[23], line 1\u001b[0m\n\u001b[1;32m----> 1\u001b[0m \u001b[43mpoblacion_dict\u001b[49m\u001b[43m[\u001b[49m\u001b[38;5;124;43m'\u001b[39;49m\u001b[38;5;124;43mAguascalientes\u001b[39;49m\u001b[38;5;124;43m'\u001b[39;49m\u001b[43m:\u001b[49m\u001b[43m \u001b[49m\u001b[38;5;124;43m'\u001b[39;49m\u001b[38;5;124;43mCDMX\u001b[39;49m\u001b[38;5;124;43m'\u001b[39;49m\u001b[43m]\u001b[49m\n",
      "\u001b[1;31mTypeError\u001b[0m: unhashable type: 'slice'"
     ]
    }
   ],
   "source": [
    "poblacion_dict['Aguascalientes': 'CDMX']"
   ]
  },
  {
   "cell_type": "markdown",
   "metadata": {},
   "source": [
    "### Más ejemplos de _Series_."
   ]
  },
  {
   "cell_type": "code",
   "execution_count": 24,
   "metadata": {},
   "outputs": [
    {
     "data": {
      "text/plain": [
       "0    2\n",
       "1    4\n",
       "2    6\n",
       "dtype: int64"
      ]
     },
     "execution_count": 24,
     "metadata": {},
     "output_type": "execute_result"
    }
   ],
   "source": [
    "pd.Series([2, 4, 6])"
   ]
  },
  {
   "cell_type": "code",
   "execution_count": 25,
   "metadata": {},
   "outputs": [
    {
     "data": {
      "text/plain": [
       "150    14\n",
       "220    14\n",
       "380    14\n",
       "dtype: int64"
      ]
     },
     "execution_count": 25,
     "metadata": {},
     "output_type": "execute_result"
    }
   ],
   "source": [
    "pd.Series(14, index  = [150, 220, 380])"
   ]
  },
  {
   "cell_type": "code",
   "execution_count": 26,
   "metadata": {},
   "outputs": [
    {
     "data": {
      "text/plain": [
       "2    a\n",
       "1    b\n",
       "3    c\n",
       "dtype: object"
      ]
     },
     "execution_count": 26,
     "metadata": {},
     "output_type": "execute_result"
    }
   ],
   "source": [
    "pd.Series({2: 'a', 1: 'b', 3:'c'})"
   ]
  },
  {
   "cell_type": "markdown",
   "metadata": {},
   "source": [
    "### DataFrame\n",
    "\n",
    "Igual que las _Series_, un _DataFrame_ toma las cualidades de una matriz de NumPy y también de los diccionarios,  \n",
    "con ventajas adicionales."
   ]
  },
  {
   "cell_type": "code",
   "execution_count": null,
   "metadata": {},
   "outputs": [],
   "source": []
  },
  {
   "cell_type": "code",
   "execution_count": 2,
   "metadata": {},
   "outputs": [],
   "source": [
    "muertes_dict = {'Goku': 3,\n",
    "'Vegeta': 1,\n",
    "'Gohan': 1,\n",
    "'Trunks': 0,\n",
    "'Broly': 0}"
   ]
  },
  {
   "cell_type": "code",
   "execution_count": 3,
   "metadata": {},
   "outputs": [],
   "source": [
    "ki_dict = {'Goku': 4.7,\n",
    "'Vegeta': 4.5,\n",
    "'Gohan': 4.2,\n",
    "'Trunks': 4.0,\n",
    "'Broly': 6.2}"
   ]
  },
  {
   "cell_type": "code",
   "execution_count": 8,
   "metadata": {},
   "outputs": [
    {
     "data": {
      "text/html": [
       "<div>\n",
       "<style scoped>\n",
       "    .dataframe tbody tr th:only-of-type {\n",
       "        vertical-align: middle;\n",
       "    }\n",
       "\n",
       "    .dataframe tbody tr th {\n",
       "        vertical-align: top;\n",
       "    }\n",
       "\n",
       "    .dataframe thead th {\n",
       "        text-align: right;\n",
       "    }\n",
       "</style>\n",
       "<table border=\"1\" class=\"dataframe\">\n",
       "  <thead>\n",
       "    <tr style=\"text-align: right;\">\n",
       "      <th></th>\n",
       "      <th>ki</th>\n",
       "      <th>muertes</th>\n",
       "    </tr>\n",
       "  </thead>\n",
       "  <tbody>\n",
       "    <tr>\n",
       "      <th>Goku</th>\n",
       "      <td>4.7</td>\n",
       "      <td>3</td>\n",
       "    </tr>\n",
       "    <tr>\n",
       "      <th>Vegeta</th>\n",
       "      <td>4.5</td>\n",
       "      <td>1</td>\n",
       "    </tr>\n",
       "    <tr>\n",
       "      <th>Gohan</th>\n",
       "      <td>4.2</td>\n",
       "      <td>1</td>\n",
       "    </tr>\n",
       "    <tr>\n",
       "      <th>Trunks</th>\n",
       "      <td>4.0</td>\n",
       "      <td>0</td>\n",
       "    </tr>\n",
       "    <tr>\n",
       "      <th>Broly</th>\n",
       "      <td>6.2</td>\n",
       "      <td>0</td>\n",
       "    </tr>\n",
       "  </tbody>\n",
       "</table>\n",
       "</div>"
      ],
      "text/plain": [
       "         ki  muertes\n",
       "Goku    4.7        3\n",
       "Vegeta  4.5        1\n",
       "Gohan   4.2        1\n",
       "Trunks  4.0        0\n",
       "Broly   6.2        0"
      ]
     },
     "execution_count": 8,
     "metadata": {},
     "output_type": "execute_result"
    }
   ],
   "source": [
    "saiyans = pd.DataFrame({'ki': ki_dict, 'muertes': muertes_dict})\n",
    "saiyans"
   ]
  },
  {
   "cell_type": "markdown",
   "metadata": {},
   "source": [
    "Un DataFrame tiene además de los atributos _value_ e _index_ el atributo _columns_ que es un índice que contiene las etiquetas de cada columna."
   ]
  },
  {
   "cell_type": "code",
   "execution_count": 9,
   "metadata": {},
   "outputs": [
    {
     "data": {
      "text/plain": [
       "array([[4.7, 3. ],\n",
       "       [4.5, 1. ],\n",
       "       [4.2, 1. ],\n",
       "       [4. , 0. ],\n",
       "       [6.2, 0. ]])"
      ]
     },
     "execution_count": 9,
     "metadata": {},
     "output_type": "execute_result"
    }
   ],
   "source": [
    "saiyans.values"
   ]
  },
  {
   "cell_type": "code",
   "execution_count": 10,
   "metadata": {},
   "outputs": [
    {
     "data": {
      "text/plain": [
       "Index(['ki', 'muertes'], dtype='object')"
      ]
     },
     "execution_count": 10,
     "metadata": {},
     "output_type": "execute_result"
    }
   ],
   "source": [
    "saiyans.columns"
   ]
  },
  {
   "cell_type": "markdown",
   "metadata": {},
   "source": [
    "En los Dataframes se puede llamar una columna por su nombre:"
   ]
  },
  {
   "cell_type": "code",
   "execution_count": 11,
   "metadata": {},
   "outputs": [
    {
     "data": {
      "text/plain": [
       "Goku      4.7\n",
       "Vegeta    4.5\n",
       "Gohan     4.2\n",
       "Trunks    4.0\n",
       "Broly     6.2\n",
       "Name: ki, dtype: float64"
      ]
     },
     "execution_count": 11,
     "metadata": {},
     "output_type": "execute_result"
    }
   ],
   "source": [
    "saiyans['ki']"
   ]
  },
  {
   "cell_type": "markdown",
   "metadata": {},
   "source": [
    "Sin embargo, no se pueden llamar ínides como las Series:"
   ]
  },
  {
   "cell_type": "code",
   "execution_count": 12,
   "metadata": {},
   "outputs": [
    {
     "ename": "KeyError",
     "evalue": "'Vegeta'",
     "output_type": "error",
     "traceback": [
      "\u001b[1;31m---------------------------------------------------------------------------\u001b[0m",
      "\u001b[1;31mKeyError\u001b[0m                                  Traceback (most recent call last)",
      "File \u001b[1;32mc:\\Users\\aavila\\Desktop\\data_science\\venv_data_science\\Lib\\site-packages\\pandas\\core\\indexes\\base.py:3805\u001b[0m, in \u001b[0;36mIndex.get_loc\u001b[1;34m(self, key)\u001b[0m\n\u001b[0;32m   3804\u001b[0m \u001b[38;5;28;01mtry\u001b[39;00m:\n\u001b[1;32m-> 3805\u001b[0m     \u001b[38;5;28;01mreturn\u001b[39;00m \u001b[38;5;28;43mself\u001b[39;49m\u001b[38;5;241;43m.\u001b[39;49m\u001b[43m_engine\u001b[49m\u001b[38;5;241;43m.\u001b[39;49m\u001b[43mget_loc\u001b[49m\u001b[43m(\u001b[49m\u001b[43mcasted_key\u001b[49m\u001b[43m)\u001b[49m\n\u001b[0;32m   3806\u001b[0m \u001b[38;5;28;01mexcept\u001b[39;00m \u001b[38;5;167;01mKeyError\u001b[39;00m \u001b[38;5;28;01mas\u001b[39;00m err:\n",
      "File \u001b[1;32mindex.pyx:167\u001b[0m, in \u001b[0;36mpandas._libs.index.IndexEngine.get_loc\u001b[1;34m()\u001b[0m\n",
      "File \u001b[1;32mindex.pyx:196\u001b[0m, in \u001b[0;36mpandas._libs.index.IndexEngine.get_loc\u001b[1;34m()\u001b[0m\n",
      "File \u001b[1;32mpandas\\\\_libs\\\\hashtable_class_helper.pxi:7081\u001b[0m, in \u001b[0;36mpandas._libs.hashtable.PyObjectHashTable.get_item\u001b[1;34m()\u001b[0m\n",
      "File \u001b[1;32mpandas\\\\_libs\\\\hashtable_class_helper.pxi:7089\u001b[0m, in \u001b[0;36mpandas._libs.hashtable.PyObjectHashTable.get_item\u001b[1;34m()\u001b[0m\n",
      "\u001b[1;31mKeyError\u001b[0m: 'Vegeta'",
      "\nThe above exception was the direct cause of the following exception:\n",
      "\u001b[1;31mKeyError\u001b[0m                                  Traceback (most recent call last)",
      "Cell \u001b[1;32mIn[12], line 1\u001b[0m\n\u001b[1;32m----> 1\u001b[0m \u001b[43msaiyans\u001b[49m\u001b[43m[\u001b[49m\u001b[38;5;124;43m'\u001b[39;49m\u001b[38;5;124;43mVegeta\u001b[39;49m\u001b[38;5;124;43m'\u001b[39;49m\u001b[43m]\u001b[49m\n",
      "File \u001b[1;32mc:\\Users\\aavila\\Desktop\\data_science\\venv_data_science\\Lib\\site-packages\\pandas\\core\\frame.py:4102\u001b[0m, in \u001b[0;36mDataFrame.__getitem__\u001b[1;34m(self, key)\u001b[0m\n\u001b[0;32m   4100\u001b[0m \u001b[38;5;28;01mif\u001b[39;00m \u001b[38;5;28mself\u001b[39m\u001b[38;5;241m.\u001b[39mcolumns\u001b[38;5;241m.\u001b[39mnlevels \u001b[38;5;241m>\u001b[39m \u001b[38;5;241m1\u001b[39m:\n\u001b[0;32m   4101\u001b[0m     \u001b[38;5;28;01mreturn\u001b[39;00m \u001b[38;5;28mself\u001b[39m\u001b[38;5;241m.\u001b[39m_getitem_multilevel(key)\n\u001b[1;32m-> 4102\u001b[0m indexer \u001b[38;5;241m=\u001b[39m \u001b[38;5;28;43mself\u001b[39;49m\u001b[38;5;241;43m.\u001b[39;49m\u001b[43mcolumns\u001b[49m\u001b[38;5;241;43m.\u001b[39;49m\u001b[43mget_loc\u001b[49m\u001b[43m(\u001b[49m\u001b[43mkey\u001b[49m\u001b[43m)\u001b[49m\n\u001b[0;32m   4103\u001b[0m \u001b[38;5;28;01mif\u001b[39;00m is_integer(indexer):\n\u001b[0;32m   4104\u001b[0m     indexer \u001b[38;5;241m=\u001b[39m [indexer]\n",
      "File \u001b[1;32mc:\\Users\\aavila\\Desktop\\data_science\\venv_data_science\\Lib\\site-packages\\pandas\\core\\indexes\\base.py:3812\u001b[0m, in \u001b[0;36mIndex.get_loc\u001b[1;34m(self, key)\u001b[0m\n\u001b[0;32m   3807\u001b[0m     \u001b[38;5;28;01mif\u001b[39;00m \u001b[38;5;28misinstance\u001b[39m(casted_key, \u001b[38;5;28mslice\u001b[39m) \u001b[38;5;129;01mor\u001b[39;00m (\n\u001b[0;32m   3808\u001b[0m         \u001b[38;5;28misinstance\u001b[39m(casted_key, abc\u001b[38;5;241m.\u001b[39mIterable)\n\u001b[0;32m   3809\u001b[0m         \u001b[38;5;129;01mand\u001b[39;00m \u001b[38;5;28many\u001b[39m(\u001b[38;5;28misinstance\u001b[39m(x, \u001b[38;5;28mslice\u001b[39m) \u001b[38;5;28;01mfor\u001b[39;00m x \u001b[38;5;129;01min\u001b[39;00m casted_key)\n\u001b[0;32m   3810\u001b[0m     ):\n\u001b[0;32m   3811\u001b[0m         \u001b[38;5;28;01mraise\u001b[39;00m InvalidIndexError(key)\n\u001b[1;32m-> 3812\u001b[0m     \u001b[38;5;28;01mraise\u001b[39;00m \u001b[38;5;167;01mKeyError\u001b[39;00m(key) \u001b[38;5;28;01mfrom\u001b[39;00m \u001b[38;5;21;01merr\u001b[39;00m\n\u001b[0;32m   3813\u001b[0m \u001b[38;5;28;01mexcept\u001b[39;00m \u001b[38;5;167;01mTypeError\u001b[39;00m:\n\u001b[0;32m   3814\u001b[0m     \u001b[38;5;66;03m# If we have a listlike key, _check_indexing_error will raise\u001b[39;00m\n\u001b[0;32m   3815\u001b[0m     \u001b[38;5;66;03m#  InvalidIndexError. Otherwise we fall through and re-raise\u001b[39;00m\n\u001b[0;32m   3816\u001b[0m     \u001b[38;5;66;03m#  the TypeError.\u001b[39;00m\n\u001b[0;32m   3817\u001b[0m     \u001b[38;5;28mself\u001b[39m\u001b[38;5;241m.\u001b[39m_check_indexing_error(key)\n",
      "\u001b[1;31mKeyError\u001b[0m: 'Vegeta'"
     ]
    }
   ],
   "source": [
    "saiyans['Vegeta']"
   ]
  },
  {
   "cell_type": "markdown",
   "metadata": {},
   "source": [
    "Al igual que en los diccionarios, podemos agregar nuevos elementos, en este caso, Series,  \n",
    " y al igual que en NumPy podemos hacer operación de vectores sin nececidad de recurrir a ciclos For:"
   ]
  },
  {
   "cell_type": "code",
   "execution_count": 14,
   "metadata": {},
   "outputs": [
    {
     "data": {
      "text/html": [
       "<div>\n",
       "<style scoped>\n",
       "    .dataframe tbody tr th:only-of-type {\n",
       "        vertical-align: middle;\n",
       "    }\n",
       "\n",
       "    .dataframe tbody tr th {\n",
       "        vertical-align: top;\n",
       "    }\n",
       "\n",
       "    .dataframe thead th {\n",
       "        text-align: right;\n",
       "    }\n",
       "</style>\n",
       "<table border=\"1\" class=\"dataframe\">\n",
       "  <thead>\n",
       "    <tr style=\"text-align: right;\">\n",
       "      <th></th>\n",
       "      <th>ki</th>\n",
       "      <th>muertes</th>\n",
       "      <th>ki_ss</th>\n",
       "    </tr>\n",
       "  </thead>\n",
       "  <tbody>\n",
       "    <tr>\n",
       "      <th>Goku</th>\n",
       "      <td>4.7</td>\n",
       "      <td>3</td>\n",
       "      <td>6.11</td>\n",
       "    </tr>\n",
       "    <tr>\n",
       "      <th>Vegeta</th>\n",
       "      <td>4.5</td>\n",
       "      <td>1</td>\n",
       "      <td>5.85</td>\n",
       "    </tr>\n",
       "    <tr>\n",
       "      <th>Gohan</th>\n",
       "      <td>4.2</td>\n",
       "      <td>1</td>\n",
       "      <td>5.46</td>\n",
       "    </tr>\n",
       "    <tr>\n",
       "      <th>Trunks</th>\n",
       "      <td>4.0</td>\n",
       "      <td>0</td>\n",
       "      <td>5.20</td>\n",
       "    </tr>\n",
       "    <tr>\n",
       "      <th>Broly</th>\n",
       "      <td>6.2</td>\n",
       "      <td>0</td>\n",
       "      <td>8.06</td>\n",
       "    </tr>\n",
       "  </tbody>\n",
       "</table>\n",
       "</div>"
      ],
      "text/plain": [
       "         ki  muertes  ki_ss\n",
       "Goku    4.7        3   6.11\n",
       "Vegeta  4.5        1   5.85\n",
       "Gohan   4.2        1   5.46\n",
       "Trunks  4.0        0   5.20\n",
       "Broly   6.2        0   8.06"
      ]
     },
     "execution_count": 14,
     "metadata": {},
     "output_type": "execute_result"
    }
   ],
   "source": [
    "saiyans['ki_ss'] = saiyans['ki']*1.3\n",
    "saiyans"
   ]
  },
  {
   "cell_type": "markdown",
   "metadata": {},
   "source": [
    "### Creación de Dataframes a partir de distintos objetos:"
   ]
  },
  {
   "cell_type": "markdown",
   "metadata": {},
   "source": [
    "Desde una Serie:"
   ]
  },
  {
   "cell_type": "code",
   "execution_count": 16,
   "metadata": {},
   "outputs": [
    {
     "data": {
      "text/plain": [
       "Goku      4.7\n",
       "Vegeta    4.5\n",
       "Gohan     4.2\n",
       "Trunks    4.0\n",
       "Broly     6.2\n",
       "dtype: float64"
      ]
     },
     "execution_count": 16,
     "metadata": {},
     "output_type": "execute_result"
    }
   ],
   "source": [
    "ki = pd.Series(ki_dict)\n",
    "ki"
   ]
  },
  {
   "cell_type": "code",
   "execution_count": 17,
   "metadata": {},
   "outputs": [
    {
     "data": {
      "text/html": [
       "<div>\n",
       "<style scoped>\n",
       "    .dataframe tbody tr th:only-of-type {\n",
       "        vertical-align: middle;\n",
       "    }\n",
       "\n",
       "    .dataframe tbody tr th {\n",
       "        vertical-align: top;\n",
       "    }\n",
       "\n",
       "    .dataframe thead th {\n",
       "        text-align: right;\n",
       "    }\n",
       "</style>\n",
       "<table border=\"1\" class=\"dataframe\">\n",
       "  <thead>\n",
       "    <tr style=\"text-align: right;\">\n",
       "      <th></th>\n",
       "      <th>ki</th>\n",
       "    </tr>\n",
       "  </thead>\n",
       "  <tbody>\n",
       "    <tr>\n",
       "      <th>Goku</th>\n",
       "      <td>4.7</td>\n",
       "    </tr>\n",
       "    <tr>\n",
       "      <th>Vegeta</th>\n",
       "      <td>4.5</td>\n",
       "    </tr>\n",
       "    <tr>\n",
       "      <th>Gohan</th>\n",
       "      <td>4.2</td>\n",
       "    </tr>\n",
       "    <tr>\n",
       "      <th>Trunks</th>\n",
       "      <td>4.0</td>\n",
       "    </tr>\n",
       "    <tr>\n",
       "      <th>Broly</th>\n",
       "      <td>6.2</td>\n",
       "    </tr>\n",
       "  </tbody>\n",
       "</table>\n",
       "</div>"
      ],
      "text/plain": [
       "         ki\n",
       "Goku    4.7\n",
       "Vegeta  4.5\n",
       "Gohan   4.2\n",
       "Trunks  4.0\n",
       "Broly   6.2"
      ]
     },
     "execution_count": 17,
     "metadata": {},
     "output_type": "execute_result"
    }
   ],
   "source": [
    "pd.DataFrame(ki, columns=['ki'])"
   ]
  },
  {
   "cell_type": "markdown",
   "metadata": {},
   "source": [
    "Desde un diccionario:"
   ]
  },
  {
   "cell_type": "code",
   "execution_count": 18,
   "metadata": {},
   "outputs": [
    {
     "data": {
      "text/html": [
       "<div>\n",
       "<style scoped>\n",
       "    .dataframe tbody tr th:only-of-type {\n",
       "        vertical-align: middle;\n",
       "    }\n",
       "\n",
       "    .dataframe tbody tr th {\n",
       "        vertical-align: top;\n",
       "    }\n",
       "\n",
       "    .dataframe thead th {\n",
       "        text-align: right;\n",
       "    }\n",
       "</style>\n",
       "<table border=\"1\" class=\"dataframe\">\n",
       "  <thead>\n",
       "    <tr style=\"text-align: right;\">\n",
       "      <th></th>\n",
       "      <th>edades</th>\n",
       "      <th>clase</th>\n",
       "    </tr>\n",
       "  </thead>\n",
       "  <tbody>\n",
       "    <tr>\n",
       "      <th>0</th>\n",
       "      <td>54</td>\n",
       "      <td>C</td>\n",
       "    </tr>\n",
       "    <tr>\n",
       "      <th>1</th>\n",
       "      <td>48</td>\n",
       "      <td>A</td>\n",
       "    </tr>\n",
       "    <tr>\n",
       "      <th>2</th>\n",
       "      <td>30</td>\n",
       "      <td>D</td>\n",
       "    </tr>\n",
       "    <tr>\n",
       "      <th>3</th>\n",
       "      <td>26</td>\n",
       "      <td>B</td>\n",
       "    </tr>\n",
       "    <tr>\n",
       "      <th>4</th>\n",
       "      <td>30</td>\n",
       "      <td>C</td>\n",
       "    </tr>\n",
       "  </tbody>\n",
       "</table>\n",
       "</div>"
      ],
      "text/plain": [
       "   edades clase\n",
       "0      54     C\n",
       "1      48     A\n",
       "2      30     D\n",
       "3      26     B\n",
       "4      30     C"
      ]
     },
     "execution_count": 18,
     "metadata": {},
     "output_type": "execute_result"
    }
   ],
   "source": [
    "data = {'edades': [54, 48, 30, 26, 30], 'clase': ['C', 'A', 'D', 'B', 'C']}\n",
    "pd.DataFrame(data)"
   ]
  },
  {
   "cell_type": "markdown",
   "metadata": {},
   "source": [
    "Desde una matriz de NumPy:"
   ]
  },
  {
   "cell_type": "code",
   "execution_count": 19,
   "metadata": {},
   "outputs": [
    {
     "data": {
      "text/html": [
       "<div>\n",
       "<style scoped>\n",
       "    .dataframe tbody tr th:only-of-type {\n",
       "        vertical-align: middle;\n",
       "    }\n",
       "\n",
       "    .dataframe tbody tr th {\n",
       "        vertical-align: top;\n",
       "    }\n",
       "\n",
       "    .dataframe thead th {\n",
       "        text-align: right;\n",
       "    }\n",
       "</style>\n",
       "<table border=\"1\" class=\"dataframe\">\n",
       "  <thead>\n",
       "    <tr style=\"text-align: right;\">\n",
       "      <th></th>\n",
       "      <th>columna_1</th>\n",
       "      <th>columna_2</th>\n",
       "      <th>columna_3</th>\n",
       "    </tr>\n",
       "  </thead>\n",
       "  <tbody>\n",
       "    <tr>\n",
       "      <th>a</th>\n",
       "      <td>0.539658</td>\n",
       "      <td>0.270937</td>\n",
       "      <td>0.706041</td>\n",
       "    </tr>\n",
       "    <tr>\n",
       "      <th>b</th>\n",
       "      <td>0.749741</td>\n",
       "      <td>0.391418</td>\n",
       "      <td>0.276811</td>\n",
       "    </tr>\n",
       "    <tr>\n",
       "      <th>c</th>\n",
       "      <td>0.375330</td>\n",
       "      <td>0.940755</td>\n",
       "      <td>0.254456</td>\n",
       "    </tr>\n",
       "    <tr>\n",
       "      <th>d</th>\n",
       "      <td>0.995281</td>\n",
       "      <td>0.219384</td>\n",
       "      <td>0.071023</td>\n",
       "    </tr>\n",
       "    <tr>\n",
       "      <th>e</th>\n",
       "      <td>0.171206</td>\n",
       "      <td>0.857087</td>\n",
       "      <td>0.768386</td>\n",
       "    </tr>\n",
       "  </tbody>\n",
       "</table>\n",
       "</div>"
      ],
      "text/plain": [
       "   columna_1  columna_2  columna_3\n",
       "a   0.539658   0.270937   0.706041\n",
       "b   0.749741   0.391418   0.276811\n",
       "c   0.375330   0.940755   0.254456\n",
       "d   0.995281   0.219384   0.071023\n",
       "e   0.171206   0.857087   0.768386"
      ]
     },
     "execution_count": 19,
     "metadata": {},
     "output_type": "execute_result"
    }
   ],
   "source": [
    "pd.DataFrame(np.random.rand(5, 3),\n",
    "columns = ['columna_1', 'columna_2', 'columna_3'],\n",
    "index = ['a', 'b', 'c', 'd', 'e'])"
   ]
  },
  {
   "cell_type": "markdown",
   "metadata": {},
   "source": [
    "### Lectura de archivos .csv como DataFrames."
   ]
  },
  {
   "cell_type": "code",
   "execution_count": 30,
   "metadata": {},
   "outputs": [
    {
     "data": {
      "text/plain": [
       "pandas.core.frame.DataFrame"
      ]
     },
     "execution_count": 30,
     "metadata": {},
     "output_type": "execute_result"
    }
   ],
   "source": [
    "dragon_ball_z = pd.read_csv(r\"C:\\Users\\aavila\\Desktop\\data_science\\data_sets\\dragon_ball_z.csv\")\n",
    "type(dragon_ball_z)"
   ]
  },
  {
   "cell_type": "code",
   "execution_count": 31,
   "metadata": {},
   "outputs": [
    {
     "data": {
      "text/html": [
       "<div>\n",
       "<style scoped>\n",
       "    .dataframe tbody tr th:only-of-type {\n",
       "        vertical-align: middle;\n",
       "    }\n",
       "\n",
       "    .dataframe tbody tr th {\n",
       "        vertical-align: top;\n",
       "    }\n",
       "\n",
       "    .dataframe thead th {\n",
       "        text-align: right;\n",
       "    }\n",
       "</style>\n",
       "<table border=\"1\" class=\"dataframe\">\n",
       "  <thead>\n",
       "    <tr style=\"text-align: right;\">\n",
       "      <th></th>\n",
       "      <th>Name</th>\n",
       "      <th>Race</th>\n",
       "      <th>Gender</th>\n",
       "      <th>Power Level</th>\n",
       "      <th>Ki Blast</th>\n",
       "      <th>Melee Combat</th>\n",
       "      <th>Speed</th>\n",
       "      <th>Special Attack</th>\n",
       "      <th>Transformation</th>\n",
       "    </tr>\n",
       "  </thead>\n",
       "  <tbody>\n",
       "    <tr>\n",
       "      <th>0</th>\n",
       "      <td>Goku</td>\n",
       "      <td>Saiyan</td>\n",
       "      <td>Male</td>\n",
       "      <td>9000</td>\n",
       "      <td>Kamehameha</td>\n",
       "      <td>Dragon Fist</td>\n",
       "      <td>Fast</td>\n",
       "      <td>Spirit Bomb</td>\n",
       "      <td>Super Saiyan</td>\n",
       "    </tr>\n",
       "    <tr>\n",
       "      <th>1</th>\n",
       "      <td>Vegeta</td>\n",
       "      <td>Saiyan</td>\n",
       "      <td>Male</td>\n",
       "      <td>8500</td>\n",
       "      <td>Galick Gun</td>\n",
       "      <td>Big Bang</td>\n",
       "      <td>Fast</td>\n",
       "      <td>Final Flash</td>\n",
       "      <td>Super Saiyan</td>\n",
       "    </tr>\n",
       "    <tr>\n",
       "      <th>2</th>\n",
       "      <td>Piccolo</td>\n",
       "      <td>Namekian</td>\n",
       "      <td>Male</td>\n",
       "      <td>8000</td>\n",
       "      <td>Special Beam Cannon</td>\n",
       "      <td>Namekian Punch</td>\n",
       "      <td>Fast</td>\n",
       "      <td>Hellzone Grenade</td>\n",
       "      <td>Fuse with Kami</td>\n",
       "    </tr>\n",
       "    <tr>\n",
       "      <th>3</th>\n",
       "      <td>Gohan</td>\n",
       "      <td>Half-Saiyan</td>\n",
       "      <td>Male</td>\n",
       "      <td>7500</td>\n",
       "      <td>Masenko</td>\n",
       "      <td>Soaring Dragon Strike</td>\n",
       "      <td>Fast</td>\n",
       "      <td>Father-Son Kamehameha</td>\n",
       "      <td>Super Saiyan 2</td>\n",
       "    </tr>\n",
       "    <tr>\n",
       "      <th>4</th>\n",
       "      <td>Future Trunks</td>\n",
       "      <td>Half-Saiyan</td>\n",
       "      <td>Male</td>\n",
       "      <td>7800</td>\n",
       "      <td>Burning Attack</td>\n",
       "      <td>Sword Strike</td>\n",
       "      <td>Fast</td>\n",
       "      <td>Heat Dome Attack</td>\n",
       "      <td>Super Saiyan</td>\n",
       "    </tr>\n",
       "    <tr>\n",
       "      <th>...</th>\n",
       "      <td>...</td>\n",
       "      <td>...</td>\n",
       "      <td>...</td>\n",
       "      <td>...</td>\n",
       "      <td>...</td>\n",
       "      <td>...</td>\n",
       "      <td>...</td>\n",
       "      <td>...</td>\n",
       "      <td>...</td>\n",
       "    </tr>\n",
       "    <tr>\n",
       "      <th>65</th>\n",
       "      <td>Upa</td>\n",
       "      <td>Human</td>\n",
       "      <td>Male</td>\n",
       "      <td>10</td>\n",
       "      <td>NaN</td>\n",
       "      <td>Martial Arts</td>\n",
       "      <td>Slow</td>\n",
       "      <td>NaN</td>\n",
       "      <td>-</td>\n",
       "    </tr>\n",
       "    <tr>\n",
       "      <th>66</th>\n",
       "      <td>Mai</td>\n",
       "      <td>Human</td>\n",
       "      <td>Female</td>\n",
       "      <td>10</td>\n",
       "      <td>NaN</td>\n",
       "      <td>Firearms</td>\n",
       "      <td>Slow</td>\n",
       "      <td>NaN</td>\n",
       "      <td>-</td>\n",
       "    </tr>\n",
       "    <tr>\n",
       "      <th>67</th>\n",
       "      <td>Mr. Satan</td>\n",
       "      <td>Human</td>\n",
       "      <td>Male</td>\n",
       "      <td>50</td>\n",
       "      <td>NaN</td>\n",
       "      <td>Martial Arts</td>\n",
       "      <td>Slow</td>\n",
       "      <td>NaN</td>\n",
       "      <td>-</td>\n",
       "    </tr>\n",
       "    <tr>\n",
       "      <th>68</th>\n",
       "      <td>Vados</td>\n",
       "      <td>Angel</td>\n",
       "      <td>Female</td>\n",
       "      <td>200000</td>\n",
       "      <td>Destruction</td>\n",
       "      <td>Angelic Martial Arts</td>\n",
       "      <td>Fast</td>\n",
       "      <td>NaN</td>\n",
       "      <td>-</td>\n",
       "    </tr>\n",
       "    <tr>\n",
       "      <th>69</th>\n",
       "      <td>Whis</td>\n",
       "      <td>Angel</td>\n",
       "      <td>Male</td>\n",
       "      <td>200000</td>\n",
       "      <td>Staff Strike</td>\n",
       "      <td>Angelic Martial Arts</td>\n",
       "      <td>Fast</td>\n",
       "      <td>Temporal Do-Over</td>\n",
       "      <td>-</td>\n",
       "    </tr>\n",
       "  </tbody>\n",
       "</table>\n",
       "<p>70 rows × 9 columns</p>\n",
       "</div>"
      ],
      "text/plain": [
       "             Name         Race  Gender  Power Level             Ki Blast  \\\n",
       "0            Goku       Saiyan    Male         9000           Kamehameha   \n",
       "1          Vegeta       Saiyan    Male         8500           Galick Gun   \n",
       "2         Piccolo     Namekian    Male         8000  Special Beam Cannon   \n",
       "3           Gohan  Half-Saiyan    Male         7500              Masenko   \n",
       "4   Future Trunks  Half-Saiyan    Male         7800       Burning Attack   \n",
       "..            ...          ...     ...          ...                  ...   \n",
       "65            Upa        Human    Male           10                  NaN   \n",
       "66            Mai        Human  Female           10                  NaN   \n",
       "67      Mr. Satan        Human    Male           50                  NaN   \n",
       "68          Vados        Angel  Female       200000          Destruction   \n",
       "69           Whis        Angel    Male       200000         Staff Strike   \n",
       "\n",
       "             Melee Combat Speed         Special Attack  Transformation  \n",
       "0             Dragon Fist  Fast            Spirit Bomb    Super Saiyan  \n",
       "1                Big Bang  Fast            Final Flash    Super Saiyan  \n",
       "2          Namekian Punch  Fast       Hellzone Grenade  Fuse with Kami  \n",
       "3   Soaring Dragon Strike  Fast  Father-Son Kamehameha  Super Saiyan 2  \n",
       "4            Sword Strike  Fast       Heat Dome Attack    Super Saiyan  \n",
       "..                    ...   ...                    ...             ...  \n",
       "65           Martial Arts  Slow                    NaN               -  \n",
       "66               Firearms  Slow                    NaN               -  \n",
       "67           Martial Arts  Slow                    NaN               -  \n",
       "68   Angelic Martial Arts  Fast                    NaN               -  \n",
       "69   Angelic Martial Arts  Fast       Temporal Do-Over               -  \n",
       "\n",
       "[70 rows x 9 columns]"
      ]
     },
     "execution_count": 31,
     "metadata": {},
     "output_type": "execute_result"
    }
   ],
   "source": [
    "dragon_ball_z"
   ]
  },
  {
   "cell_type": "markdown",
   "metadata": {},
   "source": [
    "Asignar el indice a través de la columna **\"Name\"**"
   ]
  },
  {
   "cell_type": "code",
   "execution_count": 32,
   "metadata": {},
   "outputs": [],
   "source": [
    "dragon_ball_z = dragon_ball_z.set_index([\"Name\"])"
   ]
  },
  {
   "cell_type": "code",
   "execution_count": 29,
   "metadata": {},
   "outputs": [
    {
     "data": {
      "text/html": [
       "<div>\n",
       "<style scoped>\n",
       "    .dataframe tbody tr th:only-of-type {\n",
       "        vertical-align: middle;\n",
       "    }\n",
       "\n",
       "    .dataframe tbody tr th {\n",
       "        vertical-align: top;\n",
       "    }\n",
       "\n",
       "    .dataframe thead th {\n",
       "        text-align: right;\n",
       "    }\n",
       "</style>\n",
       "<table border=\"1\" class=\"dataframe\">\n",
       "  <thead>\n",
       "    <tr style=\"text-align: right;\">\n",
       "      <th></th>\n",
       "      <th>Race</th>\n",
       "      <th>Gender</th>\n",
       "      <th>Power Level</th>\n",
       "      <th>Ki Blast</th>\n",
       "      <th>Melee Combat</th>\n",
       "      <th>Speed</th>\n",
       "      <th>Special Attack</th>\n",
       "      <th>Transformation</th>\n",
       "    </tr>\n",
       "    <tr>\n",
       "      <th>Name</th>\n",
       "      <th></th>\n",
       "      <th></th>\n",
       "      <th></th>\n",
       "      <th></th>\n",
       "      <th></th>\n",
       "      <th></th>\n",
       "      <th></th>\n",
       "      <th></th>\n",
       "    </tr>\n",
       "  </thead>\n",
       "  <tbody>\n",
       "    <tr>\n",
       "      <th>Goku</th>\n",
       "      <td>Saiyan</td>\n",
       "      <td>Male</td>\n",
       "      <td>9000</td>\n",
       "      <td>Kamehameha</td>\n",
       "      <td>Dragon Fist</td>\n",
       "      <td>Fast</td>\n",
       "      <td>Spirit Bomb</td>\n",
       "      <td>Super Saiyan</td>\n",
       "    </tr>\n",
       "    <tr>\n",
       "      <th>Vegeta</th>\n",
       "      <td>Saiyan</td>\n",
       "      <td>Male</td>\n",
       "      <td>8500</td>\n",
       "      <td>Galick Gun</td>\n",
       "      <td>Big Bang</td>\n",
       "      <td>Fast</td>\n",
       "      <td>Final Flash</td>\n",
       "      <td>Super Saiyan</td>\n",
       "    </tr>\n",
       "    <tr>\n",
       "      <th>Piccolo</th>\n",
       "      <td>Namekian</td>\n",
       "      <td>Male</td>\n",
       "      <td>8000</td>\n",
       "      <td>Special Beam Cannon</td>\n",
       "      <td>Namekian Punch</td>\n",
       "      <td>Fast</td>\n",
       "      <td>Hellzone Grenade</td>\n",
       "      <td>Fuse with Kami</td>\n",
       "    </tr>\n",
       "    <tr>\n",
       "      <th>Gohan</th>\n",
       "      <td>Half-Saiyan</td>\n",
       "      <td>Male</td>\n",
       "      <td>7500</td>\n",
       "      <td>Masenko</td>\n",
       "      <td>Soaring Dragon Strike</td>\n",
       "      <td>Fast</td>\n",
       "      <td>Father-Son Kamehameha</td>\n",
       "      <td>Super Saiyan 2</td>\n",
       "    </tr>\n",
       "    <tr>\n",
       "      <th>Future Trunks</th>\n",
       "      <td>Half-Saiyan</td>\n",
       "      <td>Male</td>\n",
       "      <td>7800</td>\n",
       "      <td>Burning Attack</td>\n",
       "      <td>Sword Strike</td>\n",
       "      <td>Fast</td>\n",
       "      <td>Heat Dome Attack</td>\n",
       "      <td>Super Saiyan</td>\n",
       "    </tr>\n",
       "    <tr>\n",
       "      <th>Krillin</th>\n",
       "      <td>Human</td>\n",
       "      <td>Male</td>\n",
       "      <td>2000</td>\n",
       "      <td>Destructo Disc</td>\n",
       "      <td>Kamehameha</td>\n",
       "      <td>Average</td>\n",
       "      <td>Solar Flare</td>\n",
       "      <td>-</td>\n",
       "    </tr>\n",
       "    <tr>\n",
       "      <th>Tien</th>\n",
       "      <td>Human</td>\n",
       "      <td>Male</td>\n",
       "      <td>2200</td>\n",
       "      <td>Tri-Beam</td>\n",
       "      <td>Wolf Fang Fist</td>\n",
       "      <td>Fast</td>\n",
       "      <td>Four Witches Technique</td>\n",
       "      <td>-</td>\n",
       "    </tr>\n",
       "    <tr>\n",
       "      <th>Yamcha</th>\n",
       "      <td>Human</td>\n",
       "      <td>Male</td>\n",
       "      <td>1800</td>\n",
       "      <td>Spirit Ball</td>\n",
       "      <td>Wolf Fang Fist</td>\n",
       "      <td>Average</td>\n",
       "      <td>Wolf Fang Fist</td>\n",
       "      <td>-</td>\n",
       "    </tr>\n",
       "    <tr>\n",
       "      <th>Chiaotzu</th>\n",
       "      <td>Human</td>\n",
       "      <td>Male</td>\n",
       "      <td>1400</td>\n",
       "      <td>Dodon Ray</td>\n",
       "      <td>Psychic Powers</td>\n",
       "      <td>Slow</td>\n",
       "      <td>Psychic Powers</td>\n",
       "      <td>-</td>\n",
       "    </tr>\n",
       "    <tr>\n",
       "      <th>Bulma</th>\n",
       "      <td>Human</td>\n",
       "      <td>Female</td>\n",
       "      <td>5</td>\n",
       "      <td>NaN</td>\n",
       "      <td>NaN</td>\n",
       "      <td>NaN</td>\n",
       "      <td>NaN</td>\n",
       "      <td>-</td>\n",
       "    </tr>\n",
       "  </tbody>\n",
       "</table>\n",
       "</div>"
      ],
      "text/plain": [
       "                      Race  Gender  Power Level             Ki Blast  \\\n",
       "Name                                                                   \n",
       "Goku                Saiyan    Male         9000           Kamehameha   \n",
       "Vegeta              Saiyan    Male         8500           Galick Gun   \n",
       "Piccolo           Namekian    Male         8000  Special Beam Cannon   \n",
       "Gohan          Half-Saiyan    Male         7500              Masenko   \n",
       "Future Trunks  Half-Saiyan    Male         7800       Burning Attack   \n",
       "Krillin              Human    Male         2000       Destructo Disc   \n",
       "Tien                 Human    Male         2200             Tri-Beam   \n",
       "Yamcha               Human    Male         1800          Spirit Ball   \n",
       "Chiaotzu             Human    Male         1400            Dodon Ray   \n",
       "Bulma                Human  Female            5                  NaN   \n",
       "\n",
       "                        Melee Combat    Speed          Special Attack  \\\n",
       "Name                                                                    \n",
       "Goku                     Dragon Fist     Fast             Spirit Bomb   \n",
       "Vegeta                      Big Bang     Fast             Final Flash   \n",
       "Piccolo               Namekian Punch     Fast        Hellzone Grenade   \n",
       "Gohan          Soaring Dragon Strike     Fast   Father-Son Kamehameha   \n",
       "Future Trunks           Sword Strike     Fast        Heat Dome Attack   \n",
       "Krillin                   Kamehameha  Average             Solar Flare   \n",
       "Tien                  Wolf Fang Fist     Fast  Four Witches Technique   \n",
       "Yamcha                Wolf Fang Fist  Average          Wolf Fang Fist   \n",
       "Chiaotzu              Psychic Powers     Slow          Psychic Powers   \n",
       "Bulma                            NaN      NaN                     NaN   \n",
       "\n",
       "               Transformation  \n",
       "Name                           \n",
       "Goku             Super Saiyan  \n",
       "Vegeta           Super Saiyan  \n",
       "Piccolo        Fuse with Kami  \n",
       "Gohan          Super Saiyan 2  \n",
       "Future Trunks    Super Saiyan  \n",
       "Krillin                     -  \n",
       "Tien                        -  \n",
       "Yamcha                      -  \n",
       "Chiaotzu                    -  \n",
       "Bulma                       -  "
      ]
     },
     "execution_count": 29,
     "metadata": {},
     "output_type": "execute_result"
    }
   ],
   "source": [
    "dragon_ball_z.head(10)"
   ]
  },
  {
   "cell_type": "code",
   "execution_count": 33,
   "metadata": {},
   "outputs": [
    {
     "data": {
      "text/plain": [
       "Index(['Race', 'Gender', 'Power Level', 'Ki Blast', 'Melee Combat', 'Speed',\n",
       "       'Special Attack', 'Transformation'],\n",
       "      dtype='object')"
      ]
     },
     "execution_count": 33,
     "metadata": {},
     "output_type": "execute_result"
    }
   ],
   "source": [
    "dragon_ball_z.columns"
   ]
  },
  {
   "cell_type": "code",
   "execution_count": 34,
   "metadata": {},
   "outputs": [
    {
     "data": {
      "text/plain": [
       "Index(['Goku', 'Vegeta', 'Piccolo', 'Gohan', 'Future Trunks', 'Krillin',\n",
       "       'Tien', 'Yamcha', 'Chiaotzu', 'Bulma', 'Master Roshi', 'Android 18',\n",
       "       'Android 17', 'Cell', 'Frieza', 'Majin Buu', 'Yamu', 'Spopovich',\n",
       "       'Videl', 'Dabura', 'Hercule', 'Ox-King', 'Chi-Chi', 'Puar', 'Oolong',\n",
       "       'Launch', 'Mr. Popo', 'Kami', 'King Kai', 'Bubbles', 'Gregory', 'Dende',\n",
       "       'Nail', 'Great Saiyaman', 'Videl', 'Raditz', 'Nappa', 'Zarbon',\n",
       "       'Dodoria', 'Captain Ginyu', 'Burter', 'Recoome', 'Guldo', 'Cell Jr.',\n",
       "       'Android 16', 'Android 19', 'Android 20', 'Babidi', 'Yakon', 'Pui Pui',\n",
       "       'Android 13', 'Bojack', 'Janemba', 'Broly', 'Cooler', 'Android 14',\n",
       "       'Android 15', 'Majin Vegeta', 'Dr. Gero', 'Android 8', 'Mercenary Tao',\n",
       "       'Nam', 'King Piccolo', 'Launch', 'Emperor Pilaf', 'Upa', 'Mai',\n",
       "       'Mr. Satan', 'Vados', 'Whis'],\n",
       "      dtype='object', name='Name')"
      ]
     },
     "execution_count": 34,
     "metadata": {},
     "output_type": "execute_result"
    }
   ],
   "source": [
    "dragon_ball_z.index"
   ]
  },
  {
   "cell_type": "markdown",
   "metadata": {},
   "source": [
    "**Una sola columna de un Dataframe es una serie.**"
   ]
  },
  {
   "cell_type": "code",
   "execution_count": 37,
   "metadata": {},
   "outputs": [
    {
     "data": {
      "text/plain": [
       "pandas.core.series.Series"
      ]
     },
     "execution_count": 37,
     "metadata": {},
     "output_type": "execute_result"
    }
   ],
   "source": [
    "ki = dragon_ball_z[\"Power Level\"]\n",
    "type(ki)"
   ]
  },
  {
   "cell_type": "code",
   "execution_count": 38,
   "metadata": {},
   "outputs": [
    {
     "data": {
      "text/plain": [
       "Name\n",
       "Goku               9000\n",
       "Vegeta             8500\n",
       "Piccolo            8000\n",
       "Gohan              7500\n",
       "Future Trunks      7800\n",
       "                  ...  \n",
       "Upa                  10\n",
       "Mai                  10\n",
       "Mr. Satan            50\n",
       "Vados            200000\n",
       "Whis             200000\n",
       "Name: Power Level, Length: 70, dtype: int64"
      ]
     },
     "execution_count": 38,
     "metadata": {},
     "output_type": "execute_result"
    }
   ],
   "source": [
    "ki"
   ]
  },
  {
   "cell_type": "markdown",
   "metadata": {},
   "source": [
    "### Funciones, métodos y atributos."
   ]
  },
  {
   "cell_type": "code",
   "execution_count": 39,
   "metadata": {},
   "outputs": [
    {
     "name": "stdout",
     "output_type": "stream",
     "text": [
      "<class 'pandas.core.frame.DataFrame'>\n",
      "Index: 70 entries, Goku to Whis\n",
      "Data columns (total 8 columns):\n",
      " #   Column          Non-Null Count  Dtype \n",
      "---  ------          --------------  ----- \n",
      " 0   Race            70 non-null     object\n",
      " 1   Gender          70 non-null     object\n",
      " 2   Power Level     70 non-null     int64 \n",
      " 3   Ki Blast        48 non-null     object\n",
      " 4   Melee Combat    59 non-null     object\n",
      " 5   Speed           69 non-null     object\n",
      " 6   Special Attack  37 non-null     object\n",
      " 7   Transformation  70 non-null     object\n",
      "dtypes: int64(1), object(7)\n",
      "memory usage: 7.0+ KB\n"
     ]
    }
   ],
   "source": [
    "# Regresa el número de renglones, columnas, nombres de las columnas,  \n",
    "# La cantidad de nan's y el tipo de dato de cada variable\n",
    "dragon_ball_z.info()"
   ]
  },
  {
   "cell_type": "code",
   "execution_count": null,
   "metadata": {},
   "outputs": [
    {
     "data": {
      "text/html": [
       "<div>\n",
       "<style scoped>\n",
       "    .dataframe tbody tr th:only-of-type {\n",
       "        vertical-align: middle;\n",
       "    }\n",
       "\n",
       "    .dataframe tbody tr th {\n",
       "        vertical-align: top;\n",
       "    }\n",
       "\n",
       "    .dataframe thead th {\n",
       "        text-align: right;\n",
       "    }\n",
       "</style>\n",
       "<table border=\"1\" class=\"dataframe\">\n",
       "  <thead>\n",
       "    <tr style=\"text-align: right;\">\n",
       "      <th></th>\n",
       "      <th>Power Level</th>\n",
       "    </tr>\n",
       "  </thead>\n",
       "  <tbody>\n",
       "    <tr>\n",
       "      <th>count</th>\n",
       "      <td>70.000000</td>\n",
       "    </tr>\n",
       "    <tr>\n",
       "      <th>mean</th>\n",
       "      <td>16546.071429</td>\n",
       "    </tr>\n",
       "    <tr>\n",
       "      <th>std</th>\n",
       "      <td>37854.615047</td>\n",
       "    </tr>\n",
       "    <tr>\n",
       "      <th>min</th>\n",
       "      <td>5.000000</td>\n",
       "    </tr>\n",
       "    <tr>\n",
       "      <th>25%</th>\n",
       "      <td>1000.000000</td>\n",
       "    </tr>\n",
       "    <tr>\n",
       "      <th>50%</th>\n",
       "      <td>4000.000000</td>\n",
       "    </tr>\n",
       "    <tr>\n",
       "      <th>75%</th>\n",
       "      <td>10000.000000</td>\n",
       "    </tr>\n",
       "    <tr>\n",
       "      <th>max</th>\n",
       "      <td>200000.000000</td>\n",
       "    </tr>\n",
       "  </tbody>\n",
       "</table>\n",
       "</div>"
      ],
      "text/plain": [
       "         Power Level\n",
       "count      70.000000\n",
       "mean    16546.071429\n",
       "std     37854.615047\n",
       "min         5.000000\n",
       "25%      1000.000000\n",
       "50%      4000.000000\n",
       "75%     10000.000000\n",
       "max    200000.000000"
      ]
     },
     "execution_count": 40,
     "metadata": {},
     "output_type": "execute_result"
    }
   ],
   "source": [
    "# Breve dewcripción estadística de cada variable numérica\n",
    "dragon_ball_z.describe()"
   ]
  },
  {
   "cell_type": "code",
   "execution_count": 42,
   "metadata": {},
   "outputs": [
    {
     "name": "stdout",
     "output_type": "stream",
     "text": [
      "(70, 8)\n",
      "70\n",
      "8\n"
     ]
    }
   ],
   "source": [
    "# Tamaño del DataFrame\n",
    "print(dragon_ball_z.shape)\n",
    "print(dragon_ball_z.shape[0]) # Filas \n",
    "print(dragon_ball_z.shape[1]) # Columnas"
   ]
  },
  {
   "cell_type": "code",
   "execution_count": 43,
   "metadata": {},
   "outputs": [
    {
     "data": {
      "text/plain": [
       "tuple"
      ]
     },
     "execution_count": 43,
     "metadata": {},
     "output_type": "execute_result"
    }
   ],
   "source": [
    "# Shape es una tupla\n",
    "type(dragon_ball_z.shape)"
   ]
  },
  {
   "cell_type": "code",
   "execution_count": 44,
   "metadata": {},
   "outputs": [
    {
     "data": {
      "text/plain": [
       "Race              17\n",
       "Gender             2\n",
       "Power Level       36\n",
       "Ki Blast          39\n",
       "Melee Combat      40\n",
       "Speed              3\n",
       "Special Attack    36\n",
       "Transformation    11\n",
       "dtype: int64"
      ]
     },
     "execution_count": 44,
     "metadata": {},
     "output_type": "execute_result"
    }
   ],
   "source": [
    "# Número de valores únicos de cada variable\n",
    "\n",
    "dragon_ball_z.nunique()"
   ]
  },
  {
   "cell_type": "markdown",
   "metadata": {},
   "source": [
    "Para conocer la frecuencia de cada valor en cada variable se usa el siguiente método:"
   ]
  },
  {
   "cell_type": "code",
   "execution_count": 46,
   "metadata": {},
   "outputs": [
    {
     "data": {
      "text/plain": [
       "Race\n",
       "Human            21\n",
       "Android          10\n",
       "Alien             8\n",
       "Saiyan            7\n",
       "Namekian          4\n",
       "Demon             4\n",
       "Half-Saiyan       2\n",
       "Frost Demon       2\n",
       "Bio-Android       2\n",
       "Angel             2\n",
       "Shape-shifter     2\n",
       "Majin             1\n",
       "Genie             1\n",
       "Monkey            1\n",
       "Kai               1\n",
       "Grasshopper       1\n",
       "Wizard            1\n",
       "Name: count, dtype: int64"
      ]
     },
     "execution_count": 46,
     "metadata": {},
     "output_type": "execute_result"
    }
   ],
   "source": [
    "# Una sola columna\n",
    "dragon_ball_z[\"Race\"].value_counts()"
   ]
  },
  {
   "cell_type": "code",
   "execution_count": 55,
   "metadata": {},
   "outputs": [
    {
     "name": "stdout",
     "output_type": "stream",
     "text": [
      "Race\n",
      "Human            21\n",
      "Android          10\n",
      "Alien             8\n",
      "Saiyan            7\n",
      "Namekian          4\n",
      "Demon             4\n",
      "Half-Saiyan       2\n",
      "Frost Demon       2\n",
      "Bio-Android       2\n",
      "Angel             2\n",
      "Shape-shifter     2\n",
      "Majin             1\n",
      "Genie             1\n",
      "Monkey            1\n",
      "Kai               1\n",
      "Grasshopper       1\n",
      "Wizard            1\n",
      "Name: count, dtype: int64 \n",
      "\n",
      "\n",
      "Gender\n",
      "Male      61\n",
      "Female     9\n",
      "Name: count, dtype: int64 \n",
      "\n",
      "\n",
      "Power Level\n",
      "8000      6\n",
      "5         5\n",
      "10000     4\n",
      "4000      4\n",
      "40000     4\n",
      "10        4\n",
      "2000      3\n",
      "20000     3\n",
      "1500      2\n",
      "3000      2\n",
      "9000      2\n",
      "7800      2\n",
      "300       2\n",
      "1800      2\n",
      "200000    2\n",
      "50        2\n",
      "1000      2\n",
      "8500      1\n",
      "7500      1\n",
      "1400      1\n",
      "700       1\n",
      "30        1\n",
      "6500      1\n",
      "1100      1\n",
      "12000     1\n",
      "15000     1\n",
      "2200      1\n",
      "130       1\n",
      "4500      1\n",
      "42000     1\n",
      "100       1\n",
      "5000      1\n",
      "100000    1\n",
      "120000    1\n",
      "50000     1\n",
      "2600      1\n",
      "Name: count, dtype: int64 \n",
      "\n",
      "\n",
      "Ki Blast\n",
      "Kamehameha              3\n",
      "S.S. Deadly Bomber      3\n",
      "Energy Wave             3\n",
      "Dodon Ray               2\n",
      "Death Beam              2\n",
      "Eye Beam                2\n",
      "Galick Gun              1\n",
      "Tri-Beam                1\n",
      "Destructo Disc          1\n",
      "Burning Attack          1\n",
      "Masenko                 1\n",
      "Special Beam Cannon     1\n",
      "Energy Blast            1\n",
      "Vanishing Ball          1\n",
      "Spirit Ball             1\n",
      "Double Sunday           1\n",
      "Bomber DX               1\n",
      "Elegant Blaster         1\n",
      "Dodoria Beam            1\n",
      "Milky Cannon            1\n",
      "Blue Hurricane          1\n",
      "Evil Flame              1\n",
      "Justice Beam            1\n",
      "Guldo Psychic Move      1\n",
      "Recoome Eraser Gun      1\n",
      "Energy Drain            1\n",
      "Hell's Flash            1\n",
      "Mind Control            1\n",
      "Darkness Eye Beam       1\n",
      "Spinning Blade          1\n",
      "Galactic Buster         1\n",
      "Bunkai Teleport         1\n",
      "Eraser Cannon           1\n",
      "Supernova Cooler        1\n",
      "Final Explosion         1\n",
      "Power Blitz             1\n",
      "Explosive Demon Wave    1\n",
      "Destruction             1\n",
      "Staff Strike            1\n",
      "Name: count, dtype: int64 \n",
      "\n",
      "\n",
      "Melee Combat\n",
      "Android Strikes            9\n",
      "Martial Arts               8\n",
      "Firearms                   3\n",
      "Wolf Fang Fist             2\n",
      "Angelic Martial Arts       2\n",
      "Dragon Fist                1\n",
      "Namekian Punch             1\n",
      "Big Bang                   1\n",
      "Psychic Powers             1\n",
      "Kamehameha                 1\n",
      "Sword Strike               1\n",
      "Soaring Dragon Strike      1\n",
      "Tail Attack                1\n",
      "Buu Smash                  1\n",
      "Brutal Strikes             1\n",
      "Cell Smash                 1\n",
      "Dark Sword                 1\n",
      "Axe Handle Smash           1\n",
      "Justice Punch              1\n",
      "Tail Strike                1\n",
      "Arm Break                  1\n",
      "Elegant Pose               1\n",
      "Dodoria Headbutt           1\n",
      "Thunder Shock              1\n",
      "Ginyu Storm                1\n",
      "Blue Tornado               1\n",
      "Guldo Special              1\n",
      "Recoome Kick               1\n",
      "Rocket Punch               1\n",
      "Babidi Curse               1\n",
      "Darkness Slash             1\n",
      "Cell Jr. Attack            1\n",
      "Pui Pui Kick               1\n",
      "Galactic Slam              1\n",
      "Eraser Blow                1\n",
      "Rakshasa's Claw            1\n",
      "Cooler Armored Squadron    1\n",
      "Big Bang Attack            1\n",
      "Dodon Barrage              1\n",
      "Super Explosive Wave       1\n",
      "Name: count, dtype: int64 \n",
      "\n",
      "\n",
      "Speed\n",
      "Fast       34\n",
      "Slow       28\n",
      "Average     7\n",
      "Name: count, dtype: int64 \n",
      "\n",
      "\n",
      "Special Attack\n",
      "-                                2\n",
      "Spirit Bomb                      1\n",
      "Hellzone Grenade                 1\n",
      "Final Flash                      1\n",
      "Father-Son Kamehameha            1\n",
      "Heat Dome Attack                 1\n",
      "Four Witches Technique           1\n",
      "Solar Flare                      1\n",
      "Psychic Powers                   1\n",
      "MAX Power Kamehameha             1\n",
      "Infinity Bullet                  1\n",
      "Wolf Fang Fist                   1\n",
      "Non-Stop Violence                1\n",
      "Solar Kamehameha                 1\n",
      "Supernova                        1\n",
      "Chocolate Beam                   1\n",
      "Stone Spit                       1\n",
      "Fireball                         1\n",
      "Saiyan Man Pose                  1\n",
      "Saturday Crush                   1\n",
      "Break Cannon                     1\n",
      "Monster Crush                    1\n",
      "Dodoria Launcher                 1\n",
      "Body Change                      1\n",
      "Blue Cannonball                  1\n",
      "Recoome Ultra Fighting Bomber    1\n",
      "Guldo Freeze                     1\n",
      "Hell's Impact                    1\n",
      "Galactic Blow                    1\n",
      "Dimension Sword                  1\n",
      "Omega Blaster                    1\n",
      "Darkness Eye Beam                1\n",
      "Final Impact                     1\n",
      "Dodon Ray                        1\n",
      "Mouth Energy Wave                1\n",
      "Temporal Do-Over                 1\n",
      "Name: count, dtype: int64 \n",
      "\n",
      "\n",
      "Transformation\n",
      "-                     45\n",
      "Transformation        10\n",
      "Super Saiyan           4\n",
      "Majin Form             3\n",
      "Merge with Piccolo     2\n",
      "Super Saiyan 2         1\n",
      "Fuse with Kami         1\n",
      "Various Forms          1\n",
      "Final Form             1\n",
      "Perfect Form           1\n",
      "Absorption             1\n",
      "Name: count, dtype: int64 \n",
      "\n",
      "\n"
     ]
    }
   ],
   "source": [
    "for c in dragon_ball_z.columns:\n",
    "    print(dragon_ball_z[c].value_counts(), '\\n\\n')"
   ]
  },
  {
   "cell_type": "markdown",
   "metadata": {},
   "source": [
    "### Métodos para resumir información en un solo valor.\n",
    "\n",
    "Producen un único valor relacionado con los datos a los que se aplica. Si no se especifica otra cosa  \n",
    "Pandas lo aplica resumiendo los valores de cada columna de un DataFrame, si se quiere resumir las variables de cada fila,  \n",
    "se deberá especificar axis = 1 entre los paréntesis."
   ]
  },
  {
   "cell_type": "code",
   "execution_count": 58,
   "metadata": {},
   "outputs": [
    {
     "data": {
      "text/plain": [
       "np.float64(16546.071428571428)"
      ]
     },
     "execution_count": 58,
     "metadata": {},
     "output_type": "execute_result"
    }
   ],
   "source": [
    "dragon_ball_z[\"Power Level\"].mean()"
   ]
  },
  {
   "cell_type": "code",
   "execution_count": 59,
   "metadata": {},
   "outputs": [
    {
     "data": {
      "text/plain": [
       "Race              70\n",
       "Gender            70\n",
       "Power Level       70\n",
       "Ki Blast          48\n",
       "Melee Combat      59\n",
       "Speed             69\n",
       "Special Attack    37\n",
       "Transformation    70\n",
       "dtype: int64"
      ]
     },
     "execution_count": 59,
     "metadata": {},
     "output_type": "execute_result"
    }
   ],
   "source": [
    "dragon_ball_z.count()"
   ]
  },
  {
   "cell_type": "code",
   "execution_count": 60,
   "metadata": {},
   "outputs": [
    {
     "data": {
      "text/html": [
       "<div>\n",
       "<style scoped>\n",
       "    .dataframe tbody tr th:only-of-type {\n",
       "        vertical-align: middle;\n",
       "    }\n",
       "\n",
       "    .dataframe tbody tr th {\n",
       "        vertical-align: top;\n",
       "    }\n",
       "\n",
       "    .dataframe thead th {\n",
       "        text-align: right;\n",
       "    }\n",
       "</style>\n",
       "<table border=\"1\" class=\"dataframe\">\n",
       "  <thead>\n",
       "    <tr style=\"text-align: right;\">\n",
       "      <th></th>\n",
       "      <th>Race</th>\n",
       "      <th>Gender</th>\n",
       "      <th>Power Level</th>\n",
       "      <th>Ki Blast</th>\n",
       "      <th>Melee Combat</th>\n",
       "      <th>Speed</th>\n",
       "      <th>Special Attack</th>\n",
       "      <th>Transformation</th>\n",
       "    </tr>\n",
       "    <tr>\n",
       "      <th>Name</th>\n",
       "      <th></th>\n",
       "      <th></th>\n",
       "      <th></th>\n",
       "      <th></th>\n",
       "      <th></th>\n",
       "      <th></th>\n",
       "      <th></th>\n",
       "      <th></th>\n",
       "    </tr>\n",
       "  </thead>\n",
       "  <tbody>\n",
       "    <tr>\n",
       "      <th>Goku</th>\n",
       "      <td>False</td>\n",
       "      <td>False</td>\n",
       "      <td>False</td>\n",
       "      <td>False</td>\n",
       "      <td>False</td>\n",
       "      <td>False</td>\n",
       "      <td>False</td>\n",
       "      <td>False</td>\n",
       "    </tr>\n",
       "    <tr>\n",
       "      <th>Vegeta</th>\n",
       "      <td>False</td>\n",
       "      <td>False</td>\n",
       "      <td>False</td>\n",
       "      <td>False</td>\n",
       "      <td>False</td>\n",
       "      <td>False</td>\n",
       "      <td>False</td>\n",
       "      <td>False</td>\n",
       "    </tr>\n",
       "    <tr>\n",
       "      <th>Piccolo</th>\n",
       "      <td>False</td>\n",
       "      <td>False</td>\n",
       "      <td>False</td>\n",
       "      <td>False</td>\n",
       "      <td>False</td>\n",
       "      <td>False</td>\n",
       "      <td>False</td>\n",
       "      <td>False</td>\n",
       "    </tr>\n",
       "    <tr>\n",
       "      <th>Gohan</th>\n",
       "      <td>False</td>\n",
       "      <td>False</td>\n",
       "      <td>False</td>\n",
       "      <td>False</td>\n",
       "      <td>False</td>\n",
       "      <td>False</td>\n",
       "      <td>False</td>\n",
       "      <td>False</td>\n",
       "    </tr>\n",
       "    <tr>\n",
       "      <th>Future Trunks</th>\n",
       "      <td>False</td>\n",
       "      <td>False</td>\n",
       "      <td>False</td>\n",
       "      <td>False</td>\n",
       "      <td>False</td>\n",
       "      <td>False</td>\n",
       "      <td>False</td>\n",
       "      <td>False</td>\n",
       "    </tr>\n",
       "    <tr>\n",
       "      <th>...</th>\n",
       "      <td>...</td>\n",
       "      <td>...</td>\n",
       "      <td>...</td>\n",
       "      <td>...</td>\n",
       "      <td>...</td>\n",
       "      <td>...</td>\n",
       "      <td>...</td>\n",
       "      <td>...</td>\n",
       "    </tr>\n",
       "    <tr>\n",
       "      <th>Upa</th>\n",
       "      <td>False</td>\n",
       "      <td>False</td>\n",
       "      <td>False</td>\n",
       "      <td>True</td>\n",
       "      <td>False</td>\n",
       "      <td>False</td>\n",
       "      <td>True</td>\n",
       "      <td>False</td>\n",
       "    </tr>\n",
       "    <tr>\n",
       "      <th>Mai</th>\n",
       "      <td>False</td>\n",
       "      <td>False</td>\n",
       "      <td>False</td>\n",
       "      <td>True</td>\n",
       "      <td>False</td>\n",
       "      <td>False</td>\n",
       "      <td>True</td>\n",
       "      <td>False</td>\n",
       "    </tr>\n",
       "    <tr>\n",
       "      <th>Mr. Satan</th>\n",
       "      <td>False</td>\n",
       "      <td>False</td>\n",
       "      <td>False</td>\n",
       "      <td>True</td>\n",
       "      <td>False</td>\n",
       "      <td>False</td>\n",
       "      <td>True</td>\n",
       "      <td>False</td>\n",
       "    </tr>\n",
       "    <tr>\n",
       "      <th>Vados</th>\n",
       "      <td>False</td>\n",
       "      <td>False</td>\n",
       "      <td>False</td>\n",
       "      <td>False</td>\n",
       "      <td>False</td>\n",
       "      <td>False</td>\n",
       "      <td>True</td>\n",
       "      <td>False</td>\n",
       "    </tr>\n",
       "    <tr>\n",
       "      <th>Whis</th>\n",
       "      <td>False</td>\n",
       "      <td>False</td>\n",
       "      <td>False</td>\n",
       "      <td>False</td>\n",
       "      <td>False</td>\n",
       "      <td>False</td>\n",
       "      <td>False</td>\n",
       "      <td>False</td>\n",
       "    </tr>\n",
       "  </tbody>\n",
       "</table>\n",
       "<p>70 rows × 8 columns</p>\n",
       "</div>"
      ],
      "text/plain": [
       "                Race  Gender  Power Level  Ki Blast  Melee Combat  Speed  \\\n",
       "Name                                                                       \n",
       "Goku           False   False        False     False         False  False   \n",
       "Vegeta         False   False        False     False         False  False   \n",
       "Piccolo        False   False        False     False         False  False   \n",
       "Gohan          False   False        False     False         False  False   \n",
       "Future Trunks  False   False        False     False         False  False   \n",
       "...              ...     ...          ...       ...           ...    ...   \n",
       "Upa            False   False        False      True         False  False   \n",
       "Mai            False   False        False      True         False  False   \n",
       "Mr. Satan      False   False        False      True         False  False   \n",
       "Vados          False   False        False     False         False  False   \n",
       "Whis           False   False        False     False         False  False   \n",
       "\n",
       "               Special Attack  Transformation  \n",
       "Name                                           \n",
       "Goku                    False           False  \n",
       "Vegeta                  False           False  \n",
       "Piccolo                 False           False  \n",
       "Gohan                   False           False  \n",
       "Future Trunks           False           False  \n",
       "...                       ...             ...  \n",
       "Upa                      True           False  \n",
       "Mai                      True           False  \n",
       "Mr. Satan                True           False  \n",
       "Vados                    True           False  \n",
       "Whis                    False           False  \n",
       "\n",
       "[70 rows x 8 columns]"
      ]
     },
     "execution_count": 60,
     "metadata": {},
     "output_type": "execute_result"
    }
   ],
   "source": [
    "dragon_ball_z.isnull()"
   ]
  },
  {
   "cell_type": "markdown",
   "metadata": {},
   "source": [
    "Suma de los nulos por variable"
   ]
  },
  {
   "cell_type": "code",
   "execution_count": 62,
   "metadata": {},
   "outputs": [
    {
     "data": {
      "text/plain": [
       "Race               0\n",
       "Gender             0\n",
       "Power Level        0\n",
       "Ki Blast          22\n",
       "Melee Combat      11\n",
       "Speed              1\n",
       "Special Attack    33\n",
       "Transformation     0\n",
       "dtype: int64"
      ]
     },
     "execution_count": 62,
     "metadata": {},
     "output_type": "execute_result"
    }
   ],
   "source": [
    "dragon_ball_z.isnull().sum()"
   ]
  }
 ],
 "metadata": {
  "kernelspec": {
   "display_name": "venv_data_science",
   "language": "python",
   "name": "python3"
  },
  "language_info": {
   "codemirror_mode": {
    "name": "ipython",
    "version": 3
   },
   "file_extension": ".py",
   "mimetype": "text/x-python",
   "name": "python",
   "nbconvert_exporter": "python",
   "pygments_lexer": "ipython3",
   "version": "3.11.9"
  }
 },
 "nbformat": 4,
 "nbformat_minor": 2
}
